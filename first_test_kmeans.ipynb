{
 "cells": [
  {
   "cell_type": "code",
   "execution_count": 2,
   "metadata": {},
   "outputs": [],
   "source": [
    "import pandas as pd\n",
    "\n",
    "df = pd.read_parquet('Final.parquet')"
   ]
  },
  {
   "cell_type": "code",
   "execution_count": 4,
   "metadata": {},
   "outputs": [
    {
     "name": "stdout",
     "output_type": "stream",
     "text": [
      "Silhouette Score for 2 clusters: 0.1043463460029593\n",
      "Silhouette Score for 3 clusters: 0.08965376449771789\n",
      "Silhouette Score for 4 clusters: 0.09292736539942113\n",
      "Silhouette Score for 5 clusters: 0.0958182592748604\n",
      "Silhouette Score for 6 clusters: 0.09101404692697283\n",
      "Silhouette Score for 7 clusters: 0.07944137581989745\n",
      "Silhouette Score for 8 clusters: 0.09473903391326531\n",
      "Silhouette Score for 9 clusters: 0.10274226868338443\n",
      "Silhouette Score for 10 clusters: 0.11979052250030697\n",
      "Silhouette Score for 11 clusters: 0.1273571167583921\n",
      "Silhouette Score for 12 clusters: 0.1409216013046602\n",
      "Silhouette Score for 13 clusters: 0.14658779656694498\n",
      "Silhouette Score for 14 clusters: 0.1414310472657641\n",
      "Silhouette Score for 15 clusters: 0.14518495084748148\n",
      "Silhouette Score for 16 clusters: 0.14840862076387704\n",
      "Silhouette Score for 17 clusters: 0.15869379201211603\n",
      "Silhouette Score for 18 clusters: 0.16044275584941964\n",
      "Silhouette Score for 19 clusters: 0.16257803898791917\n",
      "Silhouette Score for 20 clusters: 0.16693217975957078\n"
     ]
    }
   ],
   "source": [
    "from sklearn.feature_extraction import FeatureHasher\n",
    "from sklearn.preprocessing import OneHotEncoder, StandardScaler\n",
    "from sklearn.cluster import KMeans\n",
    "from sklearn.metrics import silhouette_score\n",
    "\n",
    "df_small = df.sample(1000)\n",
    "df_small['CustomerID'] = df_small['CustomerID'].astype(int)\n",
    "\n",
    "# High cardinality features\n",
    "high_card_cols = ['City', 'ProductGroup', 'ProductSubgroup', 'PostalCode']\n",
    "high_card_data = df_small[high_card_cols].astype(str).values.tolist()\n",
    "hasher = FeatureHasher(n_features=10, input_type='string')\n",
    "hashed_features = hasher.fit_transform(high_card_data)\n",
    "\n",
    "# Convert hashed features to a DataFrame\n",
    "hashed_features_df = pd.DataFrame(hashed_features.toarray(), columns=[f'hash_{i}' for i in range(10)])\n",
    "\n",
    "# One-hot encoding for other categorical variables\n",
    "encoder = OneHotEncoder(sparse_output=False)\n",
    "encoded_features = encoder.fit_transform(df_small[['SalesChannel', 'IndustryGroup', 'Type', 'BusinessArea', 'Company', 'RevenueType']])\n",
    "encoded_df = pd.DataFrame(encoded_features, columns=encoder.get_feature_names_out())\n",
    "\n",
    "# Reset the indices of all DataFrames before concatenation\n",
    "df_small_reset = df_small.drop(['City', 'ProductGroup', 'ProductSubgroup', 'PostalCode', 'SalesChannel', 'IndustryGroup', 'Type', 'BusinessArea', 'Company', 'RevenueType'], axis=1).reset_index(drop=True)\n",
    "hashed_features_df_reset = hashed_features_df.reset_index(drop=True)\n",
    "encoded_df_reset = encoded_df.reset_index(drop=True)\n",
    "\n",
    "# Combine all features\n",
    "df2 = pd.concat([df_small_reset, hashed_features_df_reset, encoded_df_reset], axis=1)\n",
    "\n",
    "# Scale features\n",
    "scaler = StandardScaler()\n",
    "scaled_array = scaler.fit_transform(df2)\n",
    "\n",
    "df_scaled = pd.DataFrame(scaled_array, columns=df2.columns)\n",
    "\n",
    "# K-Means Clustering\n",
    "for i in range(2, 21):\n",
    "    kmeans = KMeans(n_clusters=i, random_state=42)\n",
    "    clusters = kmeans.fit_predict(df_scaled)\n",
    "    score = silhouette_score(df_scaled, clusters)\n",
    "    print(f\"Silhouette Score for {i} clusters: {score}\")\n"
   ]
  }
 ],
 "metadata": {
  "kernelspec": {
   "display_name": "aag",
   "language": "python",
   "name": "python3"
  },
  "language_info": {
   "codemirror_mode": {
    "name": "ipython",
    "version": 3
   },
   "file_extension": ".py",
   "mimetype": "text/x-python",
   "name": "python",
   "nbconvert_exporter": "python",
   "pygments_lexer": "ipython3",
   "version": "3.12.3"
  }
 },
 "nbformat": 4,
 "nbformat_minor": 2
}
