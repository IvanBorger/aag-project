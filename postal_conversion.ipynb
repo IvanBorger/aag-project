{
 "cells": [
  {
   "cell_type": "code",
   "execution_count": 7,
   "metadata": {},
   "outputs": [],
   "source": [
    "import pandas as pd\n",
    "import pgeocode as pg\n",
    "\n",
    "df = pd.read_parquet('Final.parquet')\n",
    "df_small = df.sample(20)"
   ]
  },
  {
   "cell_type": "code",
   "execution_count": 6,
   "metadata": {},
   "outputs": [
    {
     "name": "stdout",
     "output_type": "stream",
     "text": [
      "                          City                State\n",
      "18120884                 Essen  Nordrhein-Westfalen\n",
      "11076537                Berlin               Berlin\n",
      "16962675              Kevelaer  Nordrhein-Westfalen\n",
      "6367791                 Leezen   Schleswig-Holstein\n",
      "15086878         Schwedt /Oder          Brandenburg\n",
      "9687915   Freiburg im Breisgau    Baden-Württemberg\n",
      "17239692    Künzell-Pilgerzell               Hessen\n",
      "20033788            Neuenhagen          Brandenburg\n",
      "5429327                Hamburg              Hamburg\n",
      "6488009      Emmerich am Rhein  Nordrhein-Westfalen\n",
      "17999070              Butzbach               Hessen\n",
      "8604398            Essen, Ruhr  Nordrhein-Westfalen\n",
      "14679916          Grevenbroich  Nordrhein-Westfalen\n",
      "17510135            Düsseldorf  Nordrhein-Westfalen\n",
      "10329573               Maintal               Hessen\n",
      "8188807    Kalkar, Niederrhein  Nordrhein-Westfalen\n",
      "10375020               Gransee          Brandenburg\n",
      "9643880         Schacht-Audorf   Schleswig-Holstein\n",
      "9355323           Kirchlinteln        Niedersachsen\n",
      "17267147     Bergisch Gladbach  Nordrhein-Westfalen\n"
     ]
    }
   ],
   "source": [
    "# For each row, convert postalcodes to city names in Germany\n",
    "nomi = pg.Nominatim('de')\n",
    "df_small['State'] = df_small['PostalCode'].apply(lambda x: nomi.query_postal_code(x).state_name)\n",
    "\n",
    "print(df_small[['City', 'State']])"
   ]
  }
 ],
 "metadata": {
  "kernelspec": {
   "display_name": "aag",
   "language": "python",
   "name": "python3"
  },
  "language_info": {
   "codemirror_mode": {
    "name": "ipython",
    "version": 3
   },
   "file_extension": ".py",
   "mimetype": "text/x-python",
   "name": "python",
   "nbconvert_exporter": "python",
   "pygments_lexer": "ipython3",
   "version": "3.12.3"
  }
 },
 "nbformat": 4,
 "nbformat_minor": 2
}
